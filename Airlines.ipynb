{
 "cells": [
  {
   "cell_type": "code",
   "execution_count": 1,
   "metadata": {},
   "outputs": [],
   "source": [
    "import pandas as pd \n",
    "import numpy as np\n"
   ]
  },
  {
   "cell_type": "code",
   "execution_count": 5,
   "metadata": {},
   "outputs": [
    {
     "data": {
      "text/html": [
       "<div>\n",
       "<style scoped>\n",
       "    .dataframe tbody tr th:only-of-type {\n",
       "        vertical-align: middle;\n",
       "    }\n",
       "\n",
       "    .dataframe tbody tr th {\n",
       "        vertical-align: top;\n",
       "    }\n",
       "\n",
       "    .dataframe thead th {\n",
       "        text-align: right;\n",
       "    }\n",
       "</style>\n",
       "<table border=\"1\" class=\"dataframe\">\n",
       "  <thead>\n",
       "    <tr style=\"text-align: right;\">\n",
       "      <th></th>\n",
       "      <th>Airport.Code</th>\n",
       "      <th>Airport.Name</th>\n",
       "      <th>Time.Year</th>\n",
       "      <th>Statistics.Flights.Cancelled</th>\n",
       "    </tr>\n",
       "  </thead>\n",
       "  <tbody>\n",
       "    <tr>\n",
       "      <th>0</th>\n",
       "      <td>ATL</td>\n",
       "      <td>Atlanta, GA: Hartsfield-Jackson Atlanta Intern...</td>\n",
       "      <td>2003</td>\n",
       "      <td>216</td>\n",
       "    </tr>\n",
       "    <tr>\n",
       "      <th>1</th>\n",
       "      <td>BOS</td>\n",
       "      <td>Boston, MA: Logan International</td>\n",
       "      <td>2003</td>\n",
       "      <td>138</td>\n",
       "    </tr>\n",
       "    <tr>\n",
       "      <th>2</th>\n",
       "      <td>BWI</td>\n",
       "      <td>Baltimore, MD: Baltimore/Washington Internatio...</td>\n",
       "      <td>2003</td>\n",
       "      <td>29</td>\n",
       "    </tr>\n",
       "    <tr>\n",
       "      <th>3</th>\n",
       "      <td>CLT</td>\n",
       "      <td>Charlotte, NC: Charlotte Douglas International</td>\n",
       "      <td>2003</td>\n",
       "      <td>73</td>\n",
       "    </tr>\n",
       "    <tr>\n",
       "      <th>4</th>\n",
       "      <td>DCA</td>\n",
       "      <td>Washington, DC: Ronald Reagan Washington National</td>\n",
       "      <td>2003</td>\n",
       "      <td>74</td>\n",
       "    </tr>\n",
       "    <tr>\n",
       "      <th>...</th>\n",
       "      <td>...</td>\n",
       "      <td>...</td>\n",
       "      <td>...</td>\n",
       "      <td>...</td>\n",
       "    </tr>\n",
       "    <tr>\n",
       "      <th>4329</th>\n",
       "      <td>ORD</td>\n",
       "      <td>Chicago, IL: Chicago O'Hare International</td>\n",
       "      <td>2015</td>\n",
       "      <td>875</td>\n",
       "    </tr>\n",
       "    <tr>\n",
       "      <th>4330</th>\n",
       "      <td>ATL</td>\n",
       "      <td>Atlanta, GA: Hartsfield-Jackson Atlanta Intern...</td>\n",
       "      <td>2003</td>\n",
       "      <td>216</td>\n",
       "    </tr>\n",
       "    <tr>\n",
       "      <th>4331</th>\n",
       "      <td>ATL</td>\n",
       "      <td>Atlanta, GA: Hartsfield-Jackson Atlanta Intern...</td>\n",
       "      <td>2003</td>\n",
       "      <td>216</td>\n",
       "    </tr>\n",
       "    <tr>\n",
       "      <th>4332</th>\n",
       "      <td>ATL</td>\n",
       "      <td>Atlanta, GA: Hartsfield-Jackson Atlanta Intern...</td>\n",
       "      <td>2003</td>\n",
       "      <td>216</td>\n",
       "    </tr>\n",
       "    <tr>\n",
       "      <th>4333</th>\n",
       "      <td>ATL</td>\n",
       "      <td>Atlanta, GA: Hartsfield-Jackson Atlanta Intern...</td>\n",
       "      <td>2003</td>\n",
       "      <td>216</td>\n",
       "    </tr>\n",
       "  </tbody>\n",
       "</table>\n",
       "<p>4334 rows × 4 columns</p>\n",
       "</div>"
      ],
      "text/plain": [
       "     Airport.Code                                       Airport.Name  \\\n",
       "0             ATL  Atlanta, GA: Hartsfield-Jackson Atlanta Intern...   \n",
       "1             BOS                    Boston, MA: Logan International   \n",
       "2             BWI  Baltimore, MD: Baltimore/Washington Internatio...   \n",
       "3             CLT     Charlotte, NC: Charlotte Douglas International   \n",
       "4             DCA  Washington, DC: Ronald Reagan Washington National   \n",
       "...           ...                                                ...   \n",
       "4329          ORD          Chicago, IL: Chicago O'Hare International   \n",
       "4330          ATL  Atlanta, GA: Hartsfield-Jackson Atlanta Intern...   \n",
       "4331          ATL  Atlanta, GA: Hartsfield-Jackson Atlanta Intern...   \n",
       "4332          ATL  Atlanta, GA: Hartsfield-Jackson Atlanta Intern...   \n",
       "4333          ATL  Atlanta, GA: Hartsfield-Jackson Atlanta Intern...   \n",
       "\n",
       "      Time.Year  Statistics.Flights.Cancelled  \n",
       "0          2003                           216  \n",
       "1          2003                           138  \n",
       "2          2003                            29  \n",
       "3          2003                            73  \n",
       "4          2003                            74  \n",
       "...         ...                           ...  \n",
       "4329       2015                           875  \n",
       "4330       2003                           216  \n",
       "4331       2003                           216  \n",
       "4332       2003                           216  \n",
       "4333       2003                           216  \n",
       "\n",
       "[4334 rows x 4 columns]"
      ]
     },
     "execution_count": 5,
     "metadata": {},
     "output_type": "execute_result"
    }
   ],
   "source": [
    "df= pd.read_csv(\"D:\\\\Machine Learning\\\\airlines.csv\")\n",
    "df"
   ]
  },
  {
   "cell_type": "code",
   "execution_count": 6,
   "metadata": {},
   "outputs": [
    {
     "data": {
      "text/plain": [
       "array(['Atlanta, GA: Hartsfield-Jackson Atlanta International',\n",
       "       'Boston, MA: Logan International',\n",
       "       'Baltimore, MD: Baltimore/Washington International Thurgood Marshall',\n",
       "       'Charlotte, NC: Charlotte Douglas International',\n",
       "       'Washington, DC: Ronald Reagan Washington National',\n",
       "       'Denver, CO: Denver International',\n",
       "       'Dallas/Fort Worth, TX: Dallas/Fort Worth International',\n",
       "       'Detroit, MI: Detroit Metro Wayne County',\n",
       "       'Newark, NJ: Newark Liberty International',\n",
       "       'Fort Lauderdale, FL: Fort Lauderdale-Hollywood International',\n",
       "       'Washington, DC: Washington Dulles International',\n",
       "       'Houston, TX: George Bush Intercontinental/Houston',\n",
       "       'New York, NY: John F. Kennedy International',\n",
       "       'Las Vegas, NV: McCarran International',\n",
       "       'Los Angeles, CA: Los Angeles International',\n",
       "       'New York, NY: LaGuardia', 'Orlando, FL: Orlando International',\n",
       "       'Chicago, IL: Chicago Midway International',\n",
       "       'Miami, FL: Miami International',\n",
       "       'Minneapolis, MN: Minneapolis-St Paul International',\n",
       "       \"Chicago, IL: Chicago O'Hare International\",\n",
       "       'Portland, OR: Portland International',\n",
       "       'Philadelphia, PA: Philadelphia International',\n",
       "       'Phoenix, AZ: Phoenix Sky Harbor International',\n",
       "       'San Diego, CA: San Diego International',\n",
       "       'Seattle, WA: Seattle/Tacoma International',\n",
       "       'San Francisco, CA: San Francisco International',\n",
       "       'Salt Lake City, UT: Salt Lake City International',\n",
       "       'Tampa, FL: Tampa International'], dtype=object)"
      ]
     },
     "execution_count": 6,
     "metadata": {},
     "output_type": "execute_result"
    }
   ],
   "source": [
    "df['Airport.Name'].unique()"
   ]
  },
  {
   "cell_type": "code",
   "execution_count": 35,
   "metadata": {},
   "outputs": [],
   "source": [
    "x=df['Airport.Name'].unique()\n",
    "m=np.array(df['Airport.Name'])"
   ]
  },
  {
   "cell_type": "markdown",
   "metadata": {},
   "source": [
    "Output 1-:"
   ]
  },
  {
   "cell_type": "code",
   "execution_count": 28,
   "metadata": {},
   "outputs": [
    {
     "name": "stdout",
     "output_type": "stream",
     "text": [
      "{'Atlanta, GA: Hartsfield-Jackson Atlanta International': 154, 'Boston, MA: Logan International': 150, 'Baltimore, MD: Baltimore/Washington International Thurgood Marshall': 150, 'Charlotte, NC: Charlotte Douglas International': 150, 'Washington, DC: Ronald Reagan Washington National': 150, 'Denver, CO: Denver International': 150, 'Dallas/Fort Worth, TX: Dallas/Fort Worth International': 150, 'Detroit, MI: Detroit Metro Wayne County': 150, 'Newark, NJ: Newark Liberty International': 150, 'Fort Lauderdale, FL: Fort Lauderdale-Hollywood International': 150, 'Washington, DC: Washington Dulles International': 150, 'Houston, TX: George Bush Intercontinental/Houston': 150, 'New York, NY: John F. Kennedy International': 150, 'Las Vegas, NV: McCarran International': 150, 'Los Angeles, CA: Los Angeles International': 150, 'New York, NY: LaGuardia': 150, 'Orlando, FL: Orlando International': 150, 'Chicago, IL: Chicago Midway International': 150, 'Miami, FL: Miami International': 150, 'Minneapolis, MN: Minneapolis-St Paul International': 150, \"Chicago, IL: Chicago O'Hare International\": 150, 'Portland, OR: Portland International': 149, 'Philadelphia, PA: Philadelphia International': 149, 'Phoenix, AZ: Phoenix Sky Harbor International': 137, 'San Diego, CA: San Diego International': 149, 'Seattle, WA: Seattle/Tacoma International': 149, 'San Francisco, CA: San Francisco International': 149, 'Salt Lake City, UT: Salt Lake City International': 149, 'Tampa, FL: Tampa International': 149}\n"
     ]
    }
   ],
   "source": [
    "freq ={}\n",
    "for i in range(len(m)):\n",
    "    if m[i] in freq:\n",
    "        freq[m[i]]+=1\n",
    "    else:\n",
    "        freq[m[i]] =1\n"
   ]
  },
  {
   "cell_type": "markdown",
   "metadata": {},
   "source": [
    "Output 2-:"
   ]
  },
  {
   "cell_type": "code",
   "execution_count": 36,
   "metadata": {},
   "outputs": [
    {
     "data": {
      "text/plain": [
       "('Washington, DC: Washington Dulles International', 154)"
      ]
     },
     "execution_count": 36,
     "metadata": {},
     "output_type": "execute_result"
    }
   ],
   "source": [
    "max(freq.keys()),max(freq.values())"
   ]
  },
  {
   "cell_type": "markdown",
   "metadata": {},
   "source": [
    "Output 3-:"
   ]
  },
  {
   "cell_type": "code",
   "execution_count": 38,
   "metadata": {},
   "outputs": [
    {
     "data": {
      "text/plain": [
       "('Atlanta, GA: Hartsfield-Jackson Atlanta International', 137)"
      ]
     },
     "execution_count": 38,
     "metadata": {},
     "output_type": "execute_result"
    }
   ],
   "source": [
    "min(freq.keys()),min(freq.values())"
   ]
  },
  {
   "cell_type": "code",
   "execution_count": null,
   "metadata": {},
   "outputs": [],
   "source": []
  }
 ],
 "metadata": {
  "kernelspec": {
   "display_name": "Python 3",
   "language": "python",
   "name": "python3"
  },
  "language_info": {
   "codemirror_mode": {
    "name": "ipython",
    "version": 3
   },
   "file_extension": ".py",
   "mimetype": "text/x-python",
   "name": "python",
   "nbconvert_exporter": "python",
   "pygments_lexer": "ipython3",
   "version": "3.8.3"
  }
 },
 "nbformat": 4,
 "nbformat_minor": 4
}
